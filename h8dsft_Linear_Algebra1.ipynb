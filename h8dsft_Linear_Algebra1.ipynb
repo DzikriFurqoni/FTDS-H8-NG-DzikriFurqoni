{
  "nbformat": 4,
  "nbformat_minor": 0,
  "metadata": {
    "colab": {
      "provenance": []
    },
    "kernelspec": {
      "name": "python3",
      "display_name": "Python 3"
    },
    "language_info": {
      "name": "python"
    }
  },
  "cells": [
    {
      "cell_type": "markdown",
      "source": [
        "# Non Graded Challenge 4"
      ],
      "metadata": {
        "id": "rMIiOuQ-32t-"
      }
    },
    {
      "cell_type": "code",
      "execution_count": 1,
      "metadata": {
        "id": "UTa2yHfM3xbP"
      },
      "outputs": [],
      "source": [
        "# import Library\n",
        "\n",
        "import numpy as np"
      ]
    },
    {
      "cell_type": "markdown",
      "source": [
        "# Soal"
      ],
      "metadata": {
        "id": "d6R_A8y148pT"
      }
    },
    {
      "cell_type": "markdown",
      "source": [
        "1. Buat Vector dengan python"
      ],
      "metadata": {
        "id": "Juy6pb3_5LCB"
      }
    },
    {
      "cell_type": "code",
      "source": [
        "a = [17, 22, 19]\n",
        "vect_a = np.array(a)\n",
        "vect_a "
      ],
      "metadata": {
        "colab": {
          "base_uri": "https://localhost:8080/"
        },
        "id": "bE4PfXi-4IYX",
        "outputId": "fa3b3b5f-ac88-4d33-e229-1854c9b28576"
      },
      "execution_count": 15,
      "outputs": [
        {
          "output_type": "execute_result",
          "data": {
            "text/plain": [
              "array([17, 22, 19])"
            ]
          },
          "metadata": {},
          "execution_count": 15
        }
      ]
    },
    {
      "cell_type": "markdown",
      "source": [
        "2. Diberikan 3 buah vektor 3 dimensi: $$ A= \\begin{bmatrix} 17 \\ 22 \\ 19 \\end{bmatrix} ,B= \\begin{bmatrix} 10 \\ 20 \\ 11 \\end{bmatrix}, C= \\begin{bmatrix} 5 \\ 12 \\ 9 \\end{bmatrix} $$\n",
        "Hitunglah:\n",
        "*   A+B\n",
        "*   B-C\n",
        "*   A dot C\n",
        "*   A x B\n",
        "*   norm A\n",
        "*   Sudut antara vektor A dan B\n",
        "\n"
      ],
      "metadata": {
        "id": "N8rwknwD5Su7"
      }
    },
    {
      "cell_type": "code",
      "source": [
        "b = [10, 20, 11]\n",
        "vect_b = np.array(b)\n",
        "print(vect_b)\n",
        "\n",
        "c = [5, 12, 9]\n",
        "vect_c = np.array(c)\n",
        "print(vect_c)"
      ],
      "metadata": {
        "colab": {
          "base_uri": "https://localhost:8080/"
        },
        "id": "Up_pYyh15uUP",
        "outputId": "a53b9c9d-f03b-4271-e277-165c0ba9860e"
      },
      "execution_count": 19,
      "outputs": [
        {
          "output_type": "stream",
          "name": "stdout",
          "text": [
            "[10 20 11]\n",
            "[ 5 12  9]\n"
          ]
        }
      ]
    },
    {
      "cell_type": "code",
      "source": [
        "b = [[10],\n",
        "     [20],\n",
        "     [19]]\n",
        "\n",
        "c = [[5],\n",
        "     [12],\n",
        "     [9]]     \n",
        "\n",
        "matrix_b = np.array(b)\n",
        "print(matrix_b)\n",
        "print('')\n",
        "\n",
        "matrix_c = np.array(c)\n",
        "print(matrix_c)\n",
        "print('')"
      ],
      "metadata": {
        "id": "W2uAQRyI9xdn"
      },
      "execution_count": null,
      "outputs": []
    },
    {
      "cell_type": "code",
      "source": [
        "# hitung a+b\n",
        "\n",
        "print(vect_a + vect_b)"
      ],
      "metadata": {
        "colab": {
          "base_uri": "https://localhost:8080/"
        },
        "id": "faUtLEyH58Ug",
        "outputId": "ca39bf08-a4e7-4f97-f89c-a680e6f52eaf"
      },
      "execution_count": 20,
      "outputs": [
        {
          "output_type": "stream",
          "name": "stdout",
          "text": [
            "[27 42 30]\n"
          ]
        }
      ]
    },
    {
      "cell_type": "code",
      "source": [
        "# hitung b-c\n",
        "\n",
        "print(vect_b - vect_c)"
      ],
      "metadata": {
        "colab": {
          "base_uri": "https://localhost:8080/"
        },
        "id": "JtOryxkW7wPB",
        "outputId": "d969e9d0-cc20-4e95-dd08-6cb8b20e92e4"
      },
      "execution_count": 21,
      "outputs": [
        {
          "output_type": "stream",
          "name": "stdout",
          "text": [
            "[5 8 2]\n"
          ]
        }
      ]
    },
    {
      "cell_type": "code",
      "source": [
        "# A dot C\n",
        "\n",
        "print(vect_a @ vect_c)"
      ],
      "metadata": {
        "colab": {
          "base_uri": "https://localhost:8080/"
        },
        "id": "LLTVmNm879Q5",
        "outputId": "a7c7b47f-f4ea-451a-fde9-fcca76cea98b"
      },
      "execution_count": 22,
      "outputs": [
        {
          "output_type": "stream",
          "name": "stdout",
          "text": [
            "520\n"
          ]
        }
      ]
    },
    {
      "cell_type": "code",
      "source": [
        "# A x B\n",
        "\n",
        "print(vect_a * vect_b)"
      ],
      "metadata": {
        "colab": {
          "base_uri": "https://localhost:8080/"
        },
        "id": "8R_c0jF2-fgX",
        "outputId": "85724710-2cb2-45d7-80b9-5953d7fda714"
      },
      "execution_count": 24,
      "outputs": [
        {
          "output_type": "stream",
          "name": "stdout",
          "text": [
            "[170 440 209]\n"
          ]
        }
      ]
    },
    {
      "cell_type": "code",
      "source": [
        "# norm A\n",
        "\n",
        "print(np.linalg.norm(vect_a))"
      ],
      "metadata": {
        "colab": {
          "base_uri": "https://localhost:8080/"
        },
        "id": "DNGeXE8n-yEP",
        "outputId": "e0bc6ece-0153-4666-cfdc-2f98a5540bf8"
      },
      "execution_count": 26,
      "outputs": [
        {
          "output_type": "stream",
          "name": "stdout",
          "text": [
            "33.67491648096547\n"
          ]
        }
      ]
    },
    {
      "cell_type": "code",
      "source": [
        "# Sudut antara vektor A dan B\n",
        "\n",
        "cos_theta = (vect_a @ vect_b) / (np.linalg.norm(vect_a) * np.linalg.norm(vect_b))\n",
        "print('Cosine Similarity : ', cos_theta)\n",
        "\n",
        "radian = np.arccos(cos_theta)\n",
        "degree = np.degrees(radian)\n",
        "\n",
        "print('Radian : ', radian)\n",
        "print('Degree : ', degree)"
      ],
      "metadata": {
        "colab": {
          "base_uri": "https://localhost:8080/"
        },
        "id": "x5sGo8c1_H-t",
        "outputId": "56247f59-c3a9-4eba-cf03-378dee8fbfa8"
      },
      "execution_count": 29,
      "outputs": [
        {
          "output_type": "stream",
          "name": "stdout",
          "text": [
            "Cosine Similarity :  0.9759590023331435\n",
            "Radian :  0.21971776576153962\n",
            "Degree :  12.588900662180242\n"
          ]
        }
      ]
    }
  ]
}