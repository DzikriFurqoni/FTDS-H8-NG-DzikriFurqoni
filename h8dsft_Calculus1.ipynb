{
  "nbformat": 4,
  "nbformat_minor": 0,
  "metadata": {
    "colab": {
      "provenance": []
    },
    "kernelspec": {
      "name": "python3",
      "display_name": "Python 3"
    },
    "language_info": {
      "name": "python"
    }
  },
  "cells": [
    {
      "cell_type": "markdown",
      "source": [
        "# Non Graded Challenge 7"
      ],
      "metadata": {
        "id": "39pdbFhaG8Lx"
      }
    },
    {
      "cell_type": "markdown",
      "source": [
        "> Assignment instruction\n",
        "\n",
        "Carilah derivative dari sebuah fungsi:\n",
        "\n",
        "\n"
      ],
      "metadata": {
        "id": "zOm95OBxG_0f"
      }
    },
    {
      "cell_type": "code",
      "execution_count": 4,
      "metadata": {
        "id": "Mi__eVmEG2SG"
      },
      "outputs": [],
      "source": [
        "# import library\n",
        "\n",
        "import sympy as sy\n",
        "import numpy as np"
      ]
    },
    {
      "cell_type": "markdown",
      "source": [
        "derivative 1"
      ],
      "metadata": {
        "id": "VsrlT37RIn5R"
      }
    },
    {
      "cell_type": "code",
      "source": [
        "x = sy.Symbol('x')\n",
        "x"
      ],
      "metadata": {
        "colab": {
          "base_uri": "https://localhost:8080/",
          "height": 39
        },
        "id": "OuErdGuhHlng",
        "outputId": "3ca05c91-9d85-46ac-c4e6-67de94cfec1f"
      },
      "execution_count": 5,
      "outputs": [
        {
          "output_type": "execute_result",
          "data": {
            "text/plain": [
              "x"
            ],
            "text/latex": "$\\displaystyle x$"
          },
          "metadata": {},
          "execution_count": 5
        }
      ]
    },
    {
      "cell_type": "code",
      "source": [
        "a = x**2 + 2*x + 1\n",
        "a"
      ],
      "metadata": {
        "colab": {
          "base_uri": "https://localhost:8080/",
          "height": 39
        },
        "id": "NND5tx22Hvp3",
        "outputId": "cff1ddde-46db-432b-f589-6574118205ff"
      },
      "execution_count": 7,
      "outputs": [
        {
          "output_type": "execute_result",
          "data": {
            "text/plain": [
              "x**2 + 2*x + 1"
            ],
            "text/latex": "$\\displaystyle x^{2} + 2 x + 1$"
          },
          "metadata": {},
          "execution_count": 7
        }
      ]
    },
    {
      "cell_type": "code",
      "source": [
        "af = a.diff()\n",
        "af"
      ],
      "metadata": {
        "colab": {
          "base_uri": "https://localhost:8080/",
          "height": 39
        },
        "id": "bO6mWna2INsG",
        "outputId": "f4c058d0-dbeb-4612-fe4e-c24ca67ad038"
      },
      "execution_count": 11,
      "outputs": [
        {
          "output_type": "execute_result",
          "data": {
            "text/plain": [
              "2*x + 2"
            ],
            "text/latex": "$\\displaystyle 2 x + 2$"
          },
          "metadata": {},
          "execution_count": 11
        }
      ]
    },
    {
      "cell_type": "markdown",
      "source": [
        "derivative 2"
      ],
      "metadata": {
        "id": "egJL8DJSJHRR"
      }
    },
    {
      "cell_type": "code",
      "source": [
        "b = 4*x**3 - 3*x**2 + 2*x - 1\n",
        "b"
      ],
      "metadata": {
        "colab": {
          "base_uri": "https://localhost:8080/",
          "height": 39
        },
        "id": "-HxukDvYI9W1",
        "outputId": "63cc29e6-9caf-4c9f-d264-535da91f4523"
      },
      "execution_count": 13,
      "outputs": [
        {
          "output_type": "execute_result",
          "data": {
            "text/plain": [
              "4*x**3 - 3*x**2 + 2*x - 1"
            ],
            "text/latex": "$\\displaystyle 4 x^{3} - 3 x^{2} + 2 x - 1$"
          },
          "metadata": {},
          "execution_count": 13
        }
      ]
    },
    {
      "cell_type": "code",
      "source": [
        "bf = b.diff()\n",
        "bf"
      ],
      "metadata": {
        "colab": {
          "base_uri": "https://localhost:8080/",
          "height": 39
        },
        "id": "1TqznPSbJnz9",
        "outputId": "37120624-5788-4c87-dd3d-1bb3e42eefcf"
      },
      "execution_count": 14,
      "outputs": [
        {
          "output_type": "execute_result",
          "data": {
            "text/plain": [
              "12*x**2 - 6*x + 2"
            ],
            "text/latex": "$\\displaystyle 12 x^{2} - 6 x + 2$"
          },
          "metadata": {},
          "execution_count": 14
        }
      ]
    }
  ]
}