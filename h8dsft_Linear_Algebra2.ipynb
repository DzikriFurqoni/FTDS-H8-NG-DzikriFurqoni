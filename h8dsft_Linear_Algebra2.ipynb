{
  "nbformat": 4,
  "nbformat_minor": 0,
  "metadata": {
    "colab": {
      "provenance": []
    },
    "kernelspec": {
      "name": "python3",
      "display_name": "Python 3"
    },
    "language_info": {
      "name": "python"
    }
  },
  "cells": [
    {
      "cell_type": "markdown",
      "source": [
        "# FTDS //NONGRADEDCHALLENGE 5"
      ],
      "metadata": {
        "id": "SwuMMLAREDJa"
      }
    },
    {
      "cell_type": "markdown",
      "source": [
        "1. Buatlah Tensor dibawah ini dengan Python:\n",
        "\n",
        "  \n",
        "  \n",
        "  \n",
        " \n",
        " \n",
        "\n",
        "2. Lakukan perkalian terhadap matrix berikut:\n",
        "\n",
        "$$ A = \\begin{bmatrix} 23 & 50 & 19 \\ 7 & 12 & 109 \\ 57 & 67 & 98 \\end{bmatrix} \\begin{bmatrix} 17 \\ 22 \\ 19 \\end{bmatrix} $$\n",
        "\n",
        "Lakukan Transpose, hitung determinan, dan inverse terhadap matrix dibawah ini:\n",
        "\n",
        "$$ \\begin{bmatrix} 23 & 50 & 19 \\ 7 & 12 & 109 \\ 57 & 67 & 98 \\end{bmatrix} $$"
      ],
      "metadata": {
        "id": "hoMo-gg-EDhS"
      }
    },
    {
      "cell_type": "code",
      "source": [
        "import numpy as np"
      ],
      "metadata": {
        "id": "q5wFDQrUtzIQ"
      },
      "execution_count": 1,
      "outputs": []
    },
    {
      "cell_type": "code",
      "source": [
        "# 1. Memanggil tensor\n",
        "\n",
        "a = ([ \n",
        "    [[23, 50], [57, 67]], \n",
        "    [[7, 12], [99, 43]],                 \n",
        "    [[75, 21], [87, 26]],\n",
        "    [[57, 12], [18, 84]],\n",
        "    ])\n",
        "\n",
        "matrix_a = np.array(a)\n",
        "print(matrix_a)"
      ],
      "metadata": {
        "colab": {
          "base_uri": "https://localhost:8080/"
        },
        "id": "_7S-E5sHyIVt",
        "outputId": "5c602ba8-30a9-49da-e79b-870436c7ad6d"
      },
      "execution_count": 18,
      "outputs": [
        {
          "output_type": "stream",
          "name": "stdout",
          "text": [
            "[[[23 50]\n",
            "  [57 67]]\n",
            "\n",
            " [[ 7 12]\n",
            "  [99 43]]\n",
            "\n",
            " [[75 21]\n",
            "  [87 26]]\n",
            "\n",
            " [[57 12]\n",
            "  [18 84]]]\n"
          ]
        }
      ]
    },
    {
      "cell_type": "code",
      "source": [
        "# 2. Perkalian Matrix\n",
        "\n",
        "A = [[23, 50, 19],\n",
        "     [7, 12, 109],\n",
        "     [57, 67, 98]]\n",
        "\n",
        "B = [[17],\n",
        "     [22],\n",
        "     [19]]\n",
        "\n",
        "matrix_A = np.array(A)\n",
        "matrix_B = np.array(B)\n",
        "\n",
        "print(matrix_A @ matrix_B)"
      ],
      "metadata": {
        "colab": {
          "base_uri": "https://localhost:8080/"
        },
        "id": "irjmXiJn2uVJ",
        "outputId": "867e8d47-e47b-4a69-e643-5b126d5436c2"
      },
      "execution_count": 24,
      "outputs": [
        {
          "output_type": "stream",
          "name": "stdout",
          "text": [
            "[[1852]\n",
            " [2454]\n",
            " [4305]]\n"
          ]
        }
      ]
    }
  ]
}